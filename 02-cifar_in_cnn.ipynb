{
  "nbformat": 4,
  "nbformat_minor": 0,
  "metadata": {
    "colab": {
      "name": "cifar in cnn",
      "provenance": [],
      "collapsed_sections": []
    },
    "kernelspec": {
      "display_name": "Python 3",
      "name": "python3"
    }
  },
  "cells": [
    {
      "cell_type": "code",
      "metadata": {
        "id": "WuM4A7eQyI13"
      },
      "source": [
        "import tensorflow as tf\n",
        "from tensorflow.keras.models import Sequential\n",
        "from tensorflow.keras.layers import Dense,Conv2D,MaxPooling2D,Dropout,Flatten,BatchNormalization\n",
        "from tensorflow.keras.preprocessing.image import ImageDataGenerator\n",
        "from tensorflow.keras.preprocessing import image\n",
        "from tensorflow.keras.utils import to_categorical\n",
        "leaky_relu= tf.keras.layers.LeakyReLU(alpha=0.3)"
      ],
      "execution_count": null,
      "outputs": []
    },
    {
      "cell_type": "code",
      "metadata": {
        "id": "Rt_6XaCMyOpK"
      },
      "source": [
        "from tensorflow.keras.datasets import cifar10"
      ],
      "execution_count": null,
      "outputs": []
    },
    {
      "cell_type": "code",
      "metadata": {
        "colab": {
          "base_uri": "https://localhost:8080/"
        },
        "id": "muU01ubeyYQ7",
        "outputId": "50b53091-5075-47e7-8aa4-3baa9fd54881"
      },
      "source": [
        "(X_train,y_train),(X_test,y_test) = cifar10.load_data()"
      ],
      "execution_count": null,
      "outputs": [
        {
          "output_type": "stream",
          "text": [
            "Downloading data from https://www.cs.toronto.edu/~kriz/cifar-10-python.tar.gz\n",
            "170500096/170498071 [==============================] - 2s 0us/step\n"
          ],
          "name": "stdout"
        }
      ]
    },
    {
      "cell_type": "code",
      "metadata": {
        "colab": {
          "base_uri": "https://localhost:8080/"
        },
        "id": "TtmOELxfycxC",
        "outputId": "51365e9e-c546-49d7-f7cd-bc228ea6f2b2"
      },
      "source": [
        "X_train.shape"
      ],
      "execution_count": null,
      "outputs": [
        {
          "output_type": "execute_result",
          "data": {
            "text/plain": [
              "(50000, 32, 32, 3)"
            ]
          },
          "metadata": {
            "tags": []
          },
          "execution_count": 4
        }
      ]
    },
    {
      "cell_type": "code",
      "metadata": {
        "id": "roscwjpyyiJ5"
      },
      "source": [
        "X_train = X_train/255"
      ],
      "execution_count": null,
      "outputs": []
    },
    {
      "cell_type": "code",
      "metadata": {
        "id": "OLmeypB1ymcS"
      },
      "source": [
        "X_test = X_test/255"
      ],
      "execution_count": null,
      "outputs": []
    },
    {
      "cell_type": "code",
      "metadata": {
        "id": "ZqlE-T9dyqF2"
      },
      "source": [
        "y_train = to_categorical(y_train,10)\n",
        "y_test = to_categorical(y_test,10)"
      ],
      "execution_count": null,
      "outputs": []
    },
    {
      "cell_type": "code",
      "metadata": {
        "id": "RVjPbbSsyx1g"
      },
      "source": [
        "# Initialize the model\n",
        "model = Sequential()\n",
        "\n",
        "\"\"\"\n",
        "about Convo2D:\n",
        "32 = number of filters\n",
        "(3,3) = size of the kernel/filter\n",
        "padding = 'same' i.e, maintain the same size of the input\n",
        "input_shape = shape of the input image\n",
        "\n",
        "about MaxPooling2D\n",
        "pool_size = size of pooling matrix\n",
        "\"\"\"\n",
        "\n",
        "model.add(Conv2D(32,(3,3),padding = 'same',activation='relu',input_shape=(32,32,3)))\n",
        "model.add(MaxPooling2D(pool_size = (2,2),strides=(2,2)))\n",
        "\n",
        "model.add(Conv2D(128,(3,3),activation='relu'))\n",
        "model.add(MaxPooling2D(pool_size = (2,2),strides=(2,2)))\n",
        "\n",
        "# model.add(Conv2D(64,(3,3),padding = 'same',activation='relu'))\n",
        "# model.add(MaxPooling2D(pool_size = (2,2),strides=(2,2)))\n",
        "\n",
        "# model.add(Conv2D(64,(3,3),activation='relu'))\n",
        "# model.add(MaxPooling2D(pool_size = (2,2),strides=(2,2)))\n",
        "\n",
        "model.add(Flatten())\n",
        "model.add(Dense(256,activation = 'relu'))\n",
        "model.add(Dropout(0.5))\n",
        "model.add(Dense(512,activation = leaky_relu))\n",
        "model.add(Dropout(0.5))\n",
        "model.add(Dense(10,activation='softmax'))"
      ],
      "execution_count": null,
      "outputs": []
    },
    {
      "cell_type": "code",
      "metadata": {
        "id": "uU3IUMFky5ag"
      },
      "source": [
        "#compile the keras model\n",
        "model.compile(loss='categorical_crossentropy',optimizer='adam',metrics=['accuracy'])"
      ],
      "execution_count": null,
      "outputs": []
    },
    {
      "cell_type": "code",
      "metadata": {
        "colab": {
          "base_uri": "https://localhost:8080/"
        },
        "id": "Fuw2sebYy9-T",
        "outputId": "8aa94c21-1ffc-401a-b993-f1cf557d1ab8"
      },
      "source": [
        "# fit the keras model on the dataset\n",
        "# epochs = training of an entire dataset\n",
        "history = model.fit(X_train,y_train,epochs= 10,batch_size=200,validation_data=(X_test,y_test))"
      ],
      "execution_count": null,
      "outputs": [
        {
          "output_type": "stream",
          "text": [
            "Epoch 1/10\n",
            "250/250 [==============================] - 92s 368ms/step - loss: 1.6527 - accuracy: 0.3851 - val_loss: 1.2561 - val_accuracy: 0.5552\n",
            "Epoch 2/10\n",
            "250/250 [==============================] - 92s 368ms/step - loss: 1.2396 - accuracy: 0.5569 - val_loss: 1.0553 - val_accuracy: 0.6296\n",
            "Epoch 3/10\n",
            "250/250 [==============================] - 92s 368ms/step - loss: 1.0695 - accuracy: 0.6214 - val_loss: 0.9408 - val_accuracy: 0.6723\n",
            "Epoch 4/10\n",
            "250/250 [==============================] - 97s 386ms/step - loss: 0.9759 - accuracy: 0.6576 - val_loss: 0.9351 - val_accuracy: 0.6666\n",
            "Epoch 5/10\n",
            "250/250 [==============================] - 92s 367ms/step - loss: 0.8979 - accuracy: 0.6857 - val_loss: 0.8784 - val_accuracy: 0.6952\n",
            "Epoch 6/10\n",
            "250/250 [==============================] - 92s 368ms/step - loss: 0.8337 - accuracy: 0.7095 - val_loss: 0.8574 - val_accuracy: 0.7035\n",
            "Epoch 7/10\n",
            "250/250 [==============================] - 92s 368ms/step - loss: 0.7748 - accuracy: 0.7266 - val_loss: 0.8301 - val_accuracy: 0.7174\n",
            "Epoch 8/10\n",
            "250/250 [==============================] - 92s 368ms/step - loss: 0.7203 - accuracy: 0.7467 - val_loss: 0.8034 - val_accuracy: 0.7238\n",
            "Epoch 9/10\n",
            "250/250 [==============================] - 92s 367ms/step - loss: 0.6706 - accuracy: 0.7653 - val_loss: 0.7775 - val_accuracy: 0.7346\n",
            "Epoch 10/10\n",
            "250/250 [==============================] - 92s 368ms/step - loss: 0.6188 - accuracy: 0.7808 - val_loss: 0.8104 - val_accuracy: 0.7226\n"
          ],
          "name": "stdout"
        }
      ]
    },
    {
      "cell_type": "code",
      "metadata": {
        "id": "KjyxAChXzF_K"
      },
      "source": [
        "# evaluate the keras model\n",
        "_,test_accuracy = model.evaluate(X_test,y_test,verbose=0)#verbose is used only to show the lines [==============================]"
      ],
      "execution_count": null,
      "outputs": []
    },
    {
      "cell_type": "code",
      "metadata": {
        "colab": {
          "base_uri": "https://localhost:8080/"
        },
        "id": "0QFBq-ivzQo7",
        "outputId": "ebee933c-0671-41eb-be80-10d8e7c02298"
      },
      "source": [
        "test_accuracy"
      ],
      "execution_count": null,
      "outputs": [
        {
          "output_type": "execute_result",
          "data": {
            "text/plain": [
              "0.722599983215332"
            ]
          },
          "metadata": {
            "tags": []
          },
          "execution_count": 12
        }
      ]
    },
    {
      "cell_type": "code",
      "metadata": {
        "id": "sN5pxTJj2rso"
      },
      "source": [
        ""
      ],
      "execution_count": null,
      "outputs": []
    }
  ]
}