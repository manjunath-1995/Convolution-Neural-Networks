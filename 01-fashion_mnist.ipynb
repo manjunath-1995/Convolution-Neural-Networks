{
  "nbformat": 4,
  "nbformat_minor": 0,
  "metadata": {
    "colab": {
      "name": "01-fashion -mnist",
      "provenance": [],
      "collapsed_sections": []
    },
    "kernelspec": {
      "name": "python3",
      "display_name": "Python 3"
    }
  },
  "cells": [
    {
      "cell_type": "markdown",
      "metadata": {
        "id": "w7Eiupi64C0V"
      },
      "source": [
        "\n",
        "## **About Fashion-MNIST Dataset**:\n",
        "\n",
        "Fashion-MNIST is a dataset images—consisting of a training set of 60,000 examples and a test set of 10,000 examples. Each example is a 28x28 grayscale image, associated with a label from 10 classes.\n",
        "\n",
        "Labels:Each training and test example is assigned to one of the following labels:\n",
        "\n",
        "   1. T-shirt/top\n",
        "   2. Trouser\n",
        "   3. Pullover\n",
        "   4. Dress\n",
        "   5. Coat\n",
        "   6. Sandal\n",
        "   7. Shirt\n",
        "   8. Sneaker\n",
        "   9. Bag\n",
        "   10. Ankle boot"
      ]
    },
    {
      "cell_type": "code",
      "metadata": {
        "id": "GEUBUGuG4XTN"
      },
      "source": [
        "#importing libraries\n",
        "import tensorflow as tf\n",
        "from tensorflow.keras.models import Sequential\n",
        "from tensorflow.keras.layers import Conv2D,MaxPooling2D,Dense,Dropout,BatchNormalization,Flatten"
      ],
      "execution_count": null,
      "outputs": []
    },
    {
      "cell_type": "code",
      "metadata": {
        "id": "oIQiZZXY4008"
      },
      "source": [
        "from tensorflow.keras.datasets import fashion_mnist"
      ],
      "execution_count": null,
      "outputs": []
    },
    {
      "cell_type": "code",
      "metadata": {
        "colab": {
          "base_uri": "https://localhost:8080/"
        },
        "id": "PuqEJvZV45rY",
        "outputId": "cc20060f-2a60-446d-f6e3-786eed1d4a91"
      },
      "source": [
        "(X_train,y_train),(X_test,y_test) = fashion_mnist.load_data()"
      ],
      "execution_count": null,
      "outputs": [
        {
          "output_type": "stream",
          "text": [
            "Downloading data from https://storage.googleapis.com/tensorflow/tf-keras-datasets/train-labels-idx1-ubyte.gz\n",
            "32768/29515 [=================================] - 0s 0us/step\n",
            "Downloading data from https://storage.googleapis.com/tensorflow/tf-keras-datasets/train-images-idx3-ubyte.gz\n",
            "26427392/26421880 [==============================] - 0s 0us/step\n",
            "Downloading data from https://storage.googleapis.com/tensorflow/tf-keras-datasets/t10k-labels-idx1-ubyte.gz\n",
            "8192/5148 [===============================================] - 0s 0us/step\n",
            "Downloading data from https://storage.googleapis.com/tensorflow/tf-keras-datasets/t10k-images-idx3-ubyte.gz\n",
            "4423680/4422102 [==============================] - 0s 0us/step\n"
          ],
          "name": "stdout"
        }
      ]
    },
    {
      "cell_type": "code",
      "metadata": {
        "colab": {
          "base_uri": "https://localhost:8080/"
        },
        "id": "yqpafj374_2x",
        "outputId": "9fce2d4b-9317-49a9-b081-2986902569e3"
      },
      "source": [
        "X_train.shape"
      ],
      "execution_count": null,
      "outputs": [
        {
          "output_type": "execute_result",
          "data": {
            "text/plain": [
              "(60000, 28, 28)"
            ]
          },
          "metadata": {
            "tags": []
          },
          "execution_count": 7
        }
      ]
    },
    {
      "cell_type": "code",
      "metadata": {
        "colab": {
          "base_uri": "https://localhost:8080/"
        },
        "id": "_6JK1iXz5M4-",
        "outputId": "894cfe1e-5f31-43f3-9688-49af4ad5256b"
      },
      "source": [
        "y_train.shape"
      ],
      "execution_count": null,
      "outputs": [
        {
          "output_type": "execute_result",
          "data": {
            "text/plain": [
              "(60000,)"
            ]
          },
          "metadata": {
            "tags": []
          },
          "execution_count": 8
        }
      ]
    },
    {
      "cell_type": "code",
      "metadata": {
        "colab": {
          "base_uri": "https://localhost:8080/"
        },
        "id": "66l1VQEG5ThP",
        "outputId": "b5bdab4b-b05b-4b13-cb8e-019495382e80"
      },
      "source": [
        "set(y_train)"
      ],
      "execution_count": null,
      "outputs": [
        {
          "output_type": "execute_result",
          "data": {
            "text/plain": [
              "{0, 1, 2, 3, 4, 5, 6, 7, 8, 9}"
            ]
          },
          "metadata": {
            "tags": []
          },
          "execution_count": 9
        }
      ]
    },
    {
      "cell_type": "code",
      "metadata": {
        "colab": {
          "base_uri": "https://localhost:8080/"
        },
        "id": "aoGMTLSI5haL",
        "outputId": "051a07c5-9097-4eaf-8a74-8f06966e38e9"
      },
      "source": [
        "X_test.shape"
      ],
      "execution_count": null,
      "outputs": [
        {
          "output_type": "execute_result",
          "data": {
            "text/plain": [
              "(10000, 28, 28)"
            ]
          },
          "metadata": {
            "tags": []
          },
          "execution_count": 10
        }
      ]
    },
    {
      "cell_type": "code",
      "metadata": {
        "colab": {
          "base_uri": "https://localhost:8080/"
        },
        "id": "gRRBsNhb5m_J",
        "outputId": "c531e507-1f4e-43ba-acc2-1c358a91b888"
      },
      "source": [
        "y_test.shape"
      ],
      "execution_count": null,
      "outputs": [
        {
          "output_type": "execute_result",
          "data": {
            "text/plain": [
              "(10000,)"
            ]
          },
          "metadata": {
            "tags": []
          },
          "execution_count": 11
        }
      ]
    },
    {
      "cell_type": "code",
      "metadata": {
        "id": "RAWRDIe45rzM"
      },
      "source": [
        "import cv2\n",
        "from google.colab.patches import cv2_imshow"
      ],
      "execution_count": null,
      "outputs": []
    },
    {
      "cell_type": "code",
      "metadata": {
        "colab": {
          "base_uri": "https://localhost:8080/",
          "height": 117
        },
        "id": "nBYAgVH15zrh",
        "outputId": "9be70056-faf7-4763-ef29-c1b2bb5d061f"
      },
      "source": [
        "cv2_imshow(cv2.resize(X_train[0],(100,100)))"
      ],
      "execution_count": null,
      "outputs": [
        {
          "output_type": "display_data",
          "data": {
            "image/png": "[encoded data removed]",
            "text/plain": [
              "<PIL.Image.Image image mode=L size=100x100 at 0x7F6B6248F898>"
            ]
          },
          "metadata": {
            "tags": []
          }
        }
      ]
    },
    {
      "cell_type": "code",
      "metadata": {
        "id": "y3UxZB0s56ot"
      },
      "source": [
        "from keras.utils.np_utils import to_categorical"
      ],
      "execution_count": null,
      "outputs": []
    },
    {
      "cell_type": "code",
      "metadata": {
        "id": "pOw4H1DX6BvV"
      },
      "source": [
        "#same as doing one-hot-encoding\n",
        "y_train = to_categorical(y_train,10)\n",
        "y_test = to_categorical(y_test,10)"
      ],
      "execution_count": null,
      "outputs": []
    },
    {
      "cell_type": "code",
      "metadata": {
        "id": "dL83W37e6Idl"
      },
      "source": [
        "X_train = X_train/255\n",
        "X_test = X_test/255"
      ],
      "execution_count": null,
      "outputs": []
    },
    {
      "cell_type": "code",
      "metadata": {
        "id": "XIH2kF4Z6OkV"
      },
      "source": [
        "import numpy as np"
      ],
      "execution_count": null,
      "outputs": []
    },
    {
      "cell_type": "code",
      "metadata": {
        "id": "xyieXI766QXX"
      },
      "source": [
        "#conv2d expects a 4D tensor as input\n",
        "X_train = np.expand_dims(X_train,axis = 3)\n",
        "X_test = np.expand_dims(X_test,axis = 3)"
      ],
      "execution_count": null,
      "outputs": []
    },
    {
      "cell_type": "code",
      "metadata": {
        "colab": {
          "base_uri": "https://localhost:8080/"
        },
        "id": "SPMiyYd66V3W",
        "outputId": "94b80ef5-a747-4277-a2b6-7f9fdea48601"
      },
      "source": [
        "X_train.shape"
      ],
      "execution_count": null,
      "outputs": [
        {
          "output_type": "execute_result",
          "data": {
            "text/plain": [
              "(60000, 28, 28, 1)"
            ]
          },
          "metadata": {
            "tags": []
          },
          "execution_count": 19
        }
      ]
    },
    {
      "cell_type": "code",
      "metadata": {
        "id": "iWAUpBQ06bIq"
      },
      "source": [
        "#model initialization\n",
        "model = Sequential()\n",
        "#first convolution layer\n",
        "model.add(Conv2D(32,(3,3),activation='relu',padding = 'same',input_shape = (28,28,1)))\n",
        "model.add(MaxPooling2D((2,2)))\n",
        "#second convolution layer\n",
        "model.add(Conv2D(64,(3,3),activation='relu',padding = 'same'))\n",
        "model.add(MaxPooling2D((2,2)))\n",
        "#flattening\n",
        "model.add(Flatten())\n",
        "#First dense layer\n",
        "model.add(Dense(32,activation = 'relu'))\n",
        "model.add(BatchNormalization()) #to reduce variance\n",
        "model.add(Dropout(0.5)) #regularization\n",
        "#Second dense layer\n",
        "model.add(Dense(64,activation = 'relu'))\n",
        "model.add(BatchNormalization()) #to reduce variance\n",
        "model.add(Dropout(0.5)) #regularization\n",
        "#output layer\n",
        "model.add(Dense(10,activation = 'softmax'))"
      ],
      "execution_count": null,
      "outputs": []
    },
    {
      "cell_type": "code",
      "metadata": {
        "id": "Sg1-kDUZ6oRg"
      },
      "source": [
        "model.compile(optimizer='adam',loss = 'categorical_crossentropy',metrics=['accuracy'])"
      ],
      "execution_count": null,
      "outputs": []
    },
    {
      "cell_type": "code",
      "metadata": {
        "colab": {
          "base_uri": "https://localhost:8080/"
        },
        "id": "4hNC56sW6xht",
        "outputId": "270dcb1b-6520-4317-8f39-9368937fd38e"
      },
      "source": [
        "history = model.fit(X_train,y_train,epochs=20,batch_size=300,validation_data=(X_test,y_test))"
      ],
      "execution_count": null,
      "outputs": [
        {
          "output_type": "stream",
          "text": [
            "Epoch 1/20\n",
            "200/200 [==============================] - 61s 307ms/step - loss: 1.0242 - accuracy: 0.6503 - val_loss: 1.1165 - val_accuracy: 0.7902\n",
            "Epoch 2/20\n",
            "200/200 [==============================] - 60s 300ms/step - loss: 0.5530 - accuracy: 0.8105 - val_loss: 0.3778 - val_accuracy: 0.8826\n",
            "Epoch 3/20\n",
            "200/200 [==============================] - 62s 311ms/step - loss: 0.4521 - accuracy: 0.8473 - val_loss: 0.3173 - val_accuracy: 0.8905\n",
            "Epoch 4/20\n",
            "200/200 [==============================] - 60s 298ms/step - loss: 0.3996 - accuracy: 0.8671 - val_loss: 0.3145 - val_accuracy: 0.8822\n",
            "Epoch 5/20\n",
            "200/200 [==============================] - 60s 298ms/step - loss: 0.3689 - accuracy: 0.8781 - val_loss: 0.2919 - val_accuracy: 0.8987\n",
            "Epoch 6/20\n",
            "200/200 [==============================] - 60s 301ms/step - loss: 0.3423 - accuracy: 0.8831 - val_loss: 0.2693 - val_accuracy: 0.9045\n",
            "Epoch 7/20\n",
            "200/200 [==============================] - 59s 297ms/step - loss: 0.3253 - accuracy: 0.8916 - val_loss: 0.2723 - val_accuracy: 0.9058\n",
            "Epoch 8/20\n",
            "200/200 [==============================] - 62s 309ms/step - loss: 0.3087 - accuracy: 0.8972 - val_loss: 0.2960 - val_accuracy: 0.8974\n",
            "Epoch 9/20\n",
            "200/200 [==============================] - 59s 297ms/step - loss: 0.2936 - accuracy: 0.9021 - val_loss: 0.2930 - val_accuracy: 0.8986\n",
            "Epoch 10/20\n",
            "200/200 [==============================] - 59s 297ms/step - loss: 0.2818 - accuracy: 0.9064 - val_loss: 0.2710 - val_accuracy: 0.9069\n",
            "Epoch 11/20\n",
            "200/200 [==============================] - 61s 303ms/step - loss: 0.2715 - accuracy: 0.9093 - val_loss: 0.2642 - val_accuracy: 0.9131\n",
            "Epoch 12/20\n",
            "200/200 [==============================] - 60s 298ms/step - loss: 0.2599 - accuracy: 0.9139 - val_loss: 0.2572 - val_accuracy: 0.9123\n",
            "Epoch 13/20\n",
            "200/200 [==============================] - 59s 297ms/step - loss: 0.2500 - accuracy: 0.9169 - val_loss: 0.2662 - val_accuracy: 0.9136\n",
            "Epoch 14/20\n",
            "200/200 [==============================] - 62s 308ms/step - loss: 0.2454 - accuracy: 0.9175 - val_loss: 0.2560 - val_accuracy: 0.9156\n",
            "Epoch 15/20\n",
            "200/200 [==============================] - 59s 296ms/step - loss: 0.2360 - accuracy: 0.9211 - val_loss: 0.3122 - val_accuracy: 0.9036\n",
            "Epoch 16/20\n",
            "200/200 [==============================] - 60s 299ms/step - loss: 0.2312 - accuracy: 0.9224 - val_loss: 0.2639 - val_accuracy: 0.9141\n",
            "Epoch 17/20\n",
            "200/200 [==============================] - 59s 296ms/step - loss: 0.2222 - accuracy: 0.9261 - val_loss: 0.2860 - val_accuracy: 0.9085\n",
            "Epoch 18/20\n",
            "200/200 [==============================] - 59s 296ms/step - loss: 0.2182 - accuracy: 0.9271 - val_loss: 0.2622 - val_accuracy: 0.9171\n",
            "Epoch 19/20\n",
            "200/200 [==============================] - 62s 311ms/step - loss: 0.2118 - accuracy: 0.9299 - val_loss: 0.2943 - val_accuracy: 0.9084\n",
            "Epoch 20/20\n",
            "200/200 [==============================] - 59s 296ms/step - loss: 0.2020 - accuracy: 0.9327 - val_loss: 0.2689 - val_accuracy: 0.9166\n"
          ],
          "name": "stdout"
        }
      ]
    },
    {
      "cell_type": "code",
      "metadata": {
        "colab": {
          "base_uri": "https://localhost:8080/"
        },
        "id": "JPbwBLr764jS",
        "outputId": "a097acd4-c54b-4986-b823-668e4e5d4ebf"
      },
      "source": [
        "test_accuracy = model.evaluate(X_test,y_test)"
      ],
      "execution_count": null,
      "outputs": [
        {
          "output_type": "stream",
          "text": [
            "313/313 [==============================] - 4s 12ms/step - loss: 0.2689 - accuracy: 0.9166\n"
          ],
          "name": "stdout"
        }
      ]
    },
    {
      "cell_type": "code",
      "metadata": {
        "colab": {
          "base_uri": "https://localhost:8080/"
        },
        "id": "dgC83oSP7Lkb",
        "outputId": "86bf177a-6d58-4b6d-ddae-209f3fd9ace8"
      },
      "source": [
        "test_accuracy"
      ],
      "execution_count": null,
      "outputs": [
        {
          "output_type": "execute_result",
          "data": {
            "text/plain": [
              "[0.26885291934013367, 0.9165999889373779]"
            ]
          },
          "metadata": {
            "tags": []
          },
          "execution_count": 25
        }
      ]
    },
    {
      "cell_type": "code",
      "metadata": {
        "id": "bkFshhi-7Kkp"
      },
      "source": [
        "obj = history.history"
      ],
      "execution_count": null,
      "outputs": []
    },
    {
      "cell_type": "code",
      "metadata": {
        "id": "QISpGEue7KCk"
      },
      "source": [
        "accuracy = obj['accuracy']\n",
        "val_accuracy = obj['val_accuracy']\n",
        "\n",
        "loss = obj['loss']\n",
        "val_loss = obj['val_loss']\n",
        "\n",
        "x_axis_vals = np.arange(len(accuracy))"
      ],
      "execution_count": null,
      "outputs": []
    },
    {
      "cell_type": "code",
      "metadata": {
        "colab": {
          "base_uri": "https://localhost:8080/",
          "height": 444
        },
        "id": "rv3aulLB7IQX",
        "outputId": "fe4f7aca-6ca1-4ccc-e86b-ca1f3e6b88e8"
      },
      "source": [
        "import matplotlib.pyplot as plt\n",
        "plt.figure(figsize = (14,7))\n",
        "\n",
        "plt.subplot(1,2,1)\n",
        "plt.plot(x_axis_vals, accuracy, label='Training Accuracy')\n",
        "plt.plot(x_axis_vals, val_accuracy, label='Validation Accuracy')\n",
        "plt.legend(loc='lower right')\n",
        "plt.title('Training and Validation Accuracy')\n",
        "\n",
        "\n",
        "plt.subplot(1,2,2)\n",
        "plt.plot(x_axis_vals, loss, label='Training loss')\n",
        "plt.plot(x_axis_vals, val_loss, label='Validation loss')\n",
        "plt.legend(loc='upper right')\n",
        "plt.title('Training and Validation Losses')\n",
        "\n",
        "plt.show()"
      ],
      "execution_count": null,
      "outputs": [
        {
          "output_type": "display_data",
          "data": {
            "image/png": "[encoded data removed]",
            "text/plain": [
              "<Figure size 1008x504 with 2 Axes>"
            ]
          },
          "metadata": {
            "tags": [],
            "needs_background": "light"
          }
        }
      ]
    },
    {
      "cell_type": "code",
      "metadata": {
        "id": "LwIB2qLC7I_M"
      },
      "source": [
        ""
      ],
      "execution_count": null,
      "outputs": []
    },
    {
      "cell_type": "code",
      "metadata": {
        "id": "IOq4M2KS677W"
      },
      "source": [
        ""
      ],
      "execution_count": null,
      "outputs": []
    }
  ]
}